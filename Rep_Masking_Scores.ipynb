{
  "cells": [
    {
      "cell_type": "markdown",
      "metadata": {
        "id": "view-in-github",
        "colab_type": "text"
      },
      "source": [
        "<a href=\"https://colab.research.google.com/github/AIKozyreva/masters-course-2024-genome-bioinformatics/blob/main/Rep_Masking_Scores.ipynb\" target=\"_parent\"><img src=\"https://colab.research.google.com/assets/colab-badge.svg\" alt=\"Open In Colab\"/></a>"
      ]
    },
    {
      "cell_type": "markdown",
      "metadata": {
        "id": "_w55MB2mTED_"
      },
      "source": [
        "# Data downloading\n",
        "Input file is masked.data.fasta, which is output from your masked tool\n",
        "\n"
      ]
    },
    {
      "cell_type": "code",
      "execution_count": null,
      "metadata": {
        "id": "lHMcuoVHTFu9"
      },
      "outputs": [],
      "source": [
        "from google.colab import files\n",
        "uploaded = files.upload()"
      ]
    },
    {
      "cell_type": "markdown",
      "source": [
        "# Masking stats count, gap count"
      ],
      "metadata": {
        "id": "0kMH7-SXhtPj"
      }
    },
    {
      "cell_type": "code",
      "source": [
        "import sys"
      ],
      "metadata": {
        "id": "bESKVpVmxKX_"
      },
      "execution_count": 2,
      "outputs": []
    },
    {
      "cell_type": "code",
      "source": [
        "def N_count (sequence):\n",
        "    n_count = sequence.count('N')\n",
        "    if n_count:\n",
        "      print (\"Type: N-masking_\", n_count, \"_masked bp\")\n",
        "      return \"N-masking_\", n_count"
      ],
      "metadata": {
        "id": "Yhp2bshGdLtQ"
      },
      "execution_count": 46,
      "outputs": []
    },
    {
      "cell_type": "code",
      "source": [
        "def calculate_TRF_stats(fasta_file, tool_name):\n",
        "    with open(fasta_file, 'r') as f:\n",
        "        fasta_lines = f.readlines()\n",
        "\n",
        "    # Concatenate sequences\n",
        "    sequence = ''.join(line.strip() for line in fasta_lines if not line.startswith('>'))\n",
        "\n",
        "    # Count total base pairs\n",
        "    total_bp = len(sequence)\n",
        "\n",
        "    # Determine masking type and count masked base pairs\n",
        "    masking_type, masked_bp = N_count(sequence)\n",
        "\n",
        "    # Calculate percentages\n",
        "    maskered_percent = (masked_bp / total_bp) * 100\n",
        "\n",
        "    # Print results\n",
        "    print(\"Tool:\", tool_name)\n",
        "    print(\"Processed FASTA file:\", fasta_file)\n",
        "    print(\"Masking type:\", masking_type)\n",
        "    print(\"Total base pairs:\", total_bp)\n",
        "    print(\"Masked base pairs:\", masked_bp)\n",
        "    print(\"Masked percentage: {:.2f}%\".format(maskered_percent))"
      ],
      "metadata": {
        "id": "yTt88VkffHAi"
      },
      "execution_count": 45,
      "outputs": []
    },
    {
      "cell_type": "code",
      "source": [
        "def Gap_finder (sequence):\n",
        "    gap_bp_count = sequence.count('N')\n",
        "    print (\"Amount of gap bp\", gap_bp_count, \"_bp\")\n",
        "    return gap_bp_count"
      ],
      "metadata": {
        "id": "Ij9cD1QJeveJ"
      },
      "execution_count": 47,
      "outputs": []
    },
    {
      "cell_type": "code",
      "source": [
        "def count_masking(sequence):\n",
        "    uppercase_count = sum(1 for base in sequence if base.isupper())\n",
        "    lowercase_count = sum(1 for base in sequence if base.islower())\n",
        "    n_count = sequence.count('N')\n",
        "    #print (n_count)\n",
        "\n",
        "    if uppercase_count > lowercase_count:\n",
        "      print (\"Type: lowercase_masking\", lowercase_count, \"_masked bp\")\n",
        "      return \"lowercase-masking\", lowercase_count\n",
        "    elif lowercase_count > uppercase_count:\n",
        "      print (\"Type: uppercase-masking\", uppercase_count, \"_masked bp\")\n",
        "      return \"uppercase-masking\", uppercase_count\n"
      ],
      "metadata": {
        "id": "asGGh0kVxNmJ"
      },
      "execution_count": 54,
      "outputs": []
    },
    {
      "cell_type": "code",
      "source": [
        "def calculate_stats(fasta_file, tool_name):\n",
        "    with open(fasta_file, 'r') as f:\n",
        "        fasta_lines = f.readlines()\n",
        "\n",
        "    # Concatenate sequences\n",
        "    sequence = ''.join(line.strip() for line in fasta_lines if not line.startswith('>'))\n",
        "\n",
        "\n",
        "    # Count total base pairs\n",
        "    total_bp = len(sequence)\n",
        "\n",
        "    # Count gap base pairs\n",
        "    gaps_bp = Gap_finder(sequence)\n",
        "\n",
        "    # Determine masking type and count masked base pairs\n",
        "    masking_type, masked_bp = count_masking(sequence)\n",
        "\n",
        "    # Calculate percentages\n",
        "    maskered_percent = (masked_bp / total_bp) * 100\n",
        "    gaps_percent = (gaps_bp / total_bp) * 100\n",
        "\n",
        "    # Print results\n",
        "    print(\"Tool:\", tool_name)\n",
        "    print(\"Processed FASTA file:\", fasta_file)\n",
        "    print(\"Masking type:\", masking_type)\n",
        "    print(\"Total base pairs:\", total_bp)\n",
        "    print(\"Masked base pairs:\", masked_bp)\n",
        "    print(\"Masked gap pairs:\", gaps_bp)\n",
        "    print(\"Masked percentage: {:.2f}%\".format(maskered_percent))\n",
        "    print(\"Masked GAP percentage: {:.2f}%\".format(gaps_percent))\n"
      ],
      "metadata": {
        "id": "ZR46tjDZg9uH"
      },
      "execution_count": 51,
      "outputs": []
    },
    {
      "cell_type": "code",
      "source": [
        "#Main_program1_for_RepeatMasker\n",
        "fasta_file_name = \"/content/Repeat_maskerFA.fasta\"\n",
        "calculate_stats (fasta_file_name, \"RepeatMasker\")"
      ],
      "metadata": {
        "colab": {
          "base_uri": "https://localhost:8080/"
        },
        "id": "JdTOWOTsg9p6",
        "outputId": "2ad54724-863b-484e-df49-6d20c10f9cf8"
      },
      "execution_count": 55,
      "outputs": [
        {
          "output_type": "stream",
          "name": "stdout",
          "text": [
            "Amount of gap bp 12873 _bp\n",
            "Type: lowercase_masking 3866474 _masked bp\n",
            "Tool: RepeatMasker\n",
            "Processed FASTA file: /content/Repeat_maskerFA.fasta\n",
            "Masking type: lowercase-masking\n",
            "Total base pairs: 37852161\n",
            "Masked base pairs: 3866474\n",
            "Masked gap pairs: 12873\n",
            "Masked percentage: 10.21%\n",
            "Masked GAP percentage: 0.03%\n"
          ]
        }
      ]
    },
    {
      "cell_type": "code",
      "source": [
        "#Main_program2_for_TRF\n",
        "fasta_file_name = \"/content/TRF.masked.fasta\"\n",
        "calculate_TRF_stats (fasta_file_name, \"TandemRepeatFinder\")"
      ],
      "metadata": {
        "colab": {
          "base_uri": "https://localhost:8080/"
        },
        "id": "mDg1D7O6Jbzq",
        "outputId": "afd18e58-1515-425f-82ed-1fa0963fe8cd"
      },
      "execution_count": 53,
      "outputs": [
        {
          "output_type": "stream",
          "name": "stdout",
          "text": [
            "Type: N-masking_ 521458 _masked bp\n",
            "Tool: TandemRepeatFinder\n",
            "Processed FASTA file: /content/TRF.masked.fasta\n",
            "Masking type: N-masking_\n",
            "Total base pairs: 37852161\n",
            "Masked base pairs: 521458\n",
            "Masked percentage: 1.38%\n"
          ]
        }
      ]
    },
    {
      "cell_type": "code",
      "source": [
        "#Main_program3_for_DUSTmasker\n",
        "fasta_file_name = \"/content/dustmasker_result.fasta\"\n",
        "calculate_stats (fasta_file_name, \"Dust_masker\")"
      ],
      "metadata": {
        "colab": {
          "base_uri": "https://localhost:8080/"
        },
        "id": "iyGDl33tNEC-",
        "outputId": "301184e7-3e6d-459f-ab2c-4aebeefaad19"
      },
      "execution_count": 56,
      "outputs": [
        {
          "output_type": "stream",
          "name": "stdout",
          "text": [
            "Amount of gap bp 0 _bp\n",
            "Type: lowercase_masking 1299929 _masked bp\n",
            "Tool: Dust_masker\n",
            "Processed FASTA file: /content/dustmasker_result.fasta\n",
            "Masking type: lowercase-masking\n",
            "Total base pairs: 37852161\n",
            "Masked base pairs: 1299929\n",
            "Masked gap pairs: 0\n",
            "Masked percentage: 3.43%\n",
            "Masked GAP percentage: 0.00%\n"
          ]
        }
      ]
    },
    {
      "cell_type": "code",
      "source": [
        "#Main_program4_for_WindowMasker\n",
        "fasta_file_name = \"/content/windowmasker_results.txt\"\n",
        "calculate_stats (fasta_file_name, \"Window_masker\")"
      ],
      "metadata": {
        "colab": {
          "base_uri": "https://localhost:8080/"
        },
        "id": "g4Obv01gNghb",
        "outputId": "06d6f34a-b4af-4921-88b7-16a903ee024d"
      },
      "execution_count": 57,
      "outputs": [
        {
          "output_type": "stream",
          "name": "stdout",
          "text": [
            "Amount of gap bp 12873 _bp\n",
            "Type: lowercase_masking 4926663 _masked bp\n",
            "Tool: Window_masker\n",
            "Processed FASTA file: /content/windowmasker_results.txt\n",
            "Masking type: lowercase-masking\n",
            "Total base pairs: 37852161\n",
            "Masked base pairs: 4926663\n",
            "Masked gap pairs: 12873\n",
            "Masked percentage: 13.02%\n",
            "Masked GAP percentage: 0.03%\n"
          ]
        }
      ]
    }
  ],
  "metadata": {
    "colab": {
      "provenance": [],
      "authorship_tag": "ABX9TyPvf/YQ3DezAKABkEN90y8k",
      "include_colab_link": true
    },
    "kernelspec": {
      "display_name": "Python 3",
      "name": "python3"
    },
    "language_info": {
      "name": "python"
    }
  },
  "nbformat": 4,
  "nbformat_minor": 0
}