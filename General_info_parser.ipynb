{
  "nbformat": 4,
  "nbformat_minor": 0,
  "metadata": {
    "colab": {
      "provenance": [],
      "authorship_tag": "ABX9TyM7GNee4CWcI/Cj5m8KY0yf",
      "include_colab_link": true
    },
    "kernelspec": {
      "name": "python3",
      "display_name": "Python 3"
    },
    "language_info": {
      "name": "python"
    }
  },
  "cells": [
    {
      "cell_type": "markdown",
      "metadata": {
        "id": "view-in-github",
        "colab_type": "text"
      },
      "source": [
        "<a href=\"https://colab.research.google.com/github/AIKozyreva/masters-course-2024-genome-bioinformatics/blob/main/General_info_parser.ipynb\" target=\"_parent\"><img src=\"https://colab.research.google.com/assets/colab-badge.svg\" alt=\"Open In Colab\"/></a>"
      ]
    },
    {
      "cell_type": "code",
      "execution_count": null,
      "metadata": {
        "id": "s5OZB_4pjTex"
      },
      "outputs": [],
      "source": [
        "input_storage=\"input_storage\"\n",
        "output_dir=\"output_dir\"\n",
        "working_dir=\"working_dir\""
      ]
    },
    {
      "cell_type": "markdown",
      "source": [
        "Две ячейки для кода на .bash"
      ],
      "metadata": {
        "id": "p-1h-axLjtB7"
      }
    },
    {
      "cell_type": "code",
      "source": [
        "#!/bin/bash\n",
        "\n",
        "input_storage=\"/mnt/projects/users/aalayeva/genomics/raw\"\n",
        "output_dir=\"$(pwd)\"\n",
        "working_dir=\"$(pwd)\""
      ],
      "metadata": {
        "id": "K1XU6zj9Cd-9"
      },
      "execution_count": null,
      "outputs": []
    },
    {
      "cell_type": "code",
      "source": [
        "# Check if output_dir exists, if not, create it\n",
        "#if [ ! -d \"$working_dir/$output_dir\" ]; then\n",
        "#    mkdir -p \"$working_dir/$output_dir\"\n",
        "#fi"
      ],
      "metadata": {
        "id": "aLnJ7I77Ce9_"
      },
      "execution_count": null,
      "outputs": []
    },
    {
      "cell_type": "code",
      "source": [
        "for file in $input_storage/*.{fa.gz,fna.gz,fastq.gz,fasta.gz}; do\n",
        "    gzip -d \"$file\"\n",
        "    echo \"Decompressed: $file\"\n",
        "    echo \"___________________\"\n",
        "done"
      ],
      "metadata": {
        "id": "AdEfbnawCiHD"
      },
      "execution_count": null,
      "outputs": []
    },
    {
      "cell_type": "code",
      "source": [
        "# Process each file in input_storage folder\n",
        "for file_path in $input_storage/*.{fa,fna,fastq,fasta}; do\n",
        "    if [ -e \"$file_path\" ]; then\n",
        "        file_name=$(basename \"$file_path\")\n",
        "        file_size=$(du -h \"$file_path\" | cut -f1)\n",
        "        file_line_count=$(wc -l < \"$file_path\")\n",
        "        file_header_count=$(grep -c '^>' \"$file_path\")\n",
        "        file_header_info=$(grep '^>' \"$file_path\" | head -n 1 | sed 's/^>//')\n",
        "\n",
        "        # Output to console and save to out_gen_info.txt\n",
        "        echo \"Processing $file_name\"\n",
        "        echo \"path to file is $file_path\"\n",
        "        echo \"File size is $file_size\"\n",
        "        echo \"$file_name amount of lines: $file_line_count\"\n",
        "        echo \"$file_name amount of headers: $file_header_count\"\n",
        "        echo \"$file_name header information: $file_header_info\"\n",
        "        echo \"_____________________________\"\n",
        "\n",
        "        # Save to out_gen_info.txt\n",
        "        echo \"Processing $file_name\" >> \"$working_dir/out_gen_info.txt\"\n",
        "        echo \"path to file is $file_path\" >> \"$working_dir/out_gen_info.txt\"\n",
        "        echo \"File size is $file_size\" >> \"$working_dir/out_gen_info.txt\"\n",
        "        echo \"$file_name amount of lines: $file_line_count\" >> \"$working_dir/out_gen_info.txt\"\n",
        "        echo \"$file_name amount of headers: $file_header_count\" >> \"$working_dir/out_gen_info.txt\"\n",
        "        echo \"$file_name header information: $file_header_info\" >> \"$working_dir/out_gen_info.txt\"\n",
        "        echo \"_________\" >> \"$working_dir/out_gen_info.txt\"\n",
        "    fi\n",
        "done"
      ],
      "metadata": {
        "id": "ELIRw5lGjZAh"
      },
      "execution_count": null,
      "outputs": []
    },
    {
      "cell_type": "code",
      "source": [],
      "metadata": {
        "id": "kVH25HQDjmMr"
      },
      "execution_count": null,
      "outputs": []
    },
    {
      "cell_type": "markdown",
      "source": [
        "код на .py"
      ],
      "metadata": {
        "id": "mzHo9apujroi"
      }
    },
    {
      "cell_type": "code",
      "source": [
        "import os"
      ],
      "metadata": {
        "id": "pRibXU13khUb"
      },
      "execution_count": null,
      "outputs": []
    },
    {
      "cell_type": "code",
      "source": [
        "input_storage = \"input_storage\"\n",
        "output_dir = \"output_dir\"\n",
        "working_dir = \"working_dir\""
      ],
      "metadata": {
        "id": "KdjpeoTukkK3"
      },
      "execution_count": null,
      "outputs": []
    },
    {
      "cell_type": "code",
      "source": [
        "# Check if output_dir exists, if not, create it\n",
        "if not os.path.exists(os.path.join(working_dir, output_dir)):\n",
        "    os.makedirs(os.path.join(working_dir, output_dir))"
      ],
      "metadata": {
        "id": "YWAeAEboklvM"
      },
      "execution_count": null,
      "outputs": []
    },
    {
      "cell_type": "code",
      "source": [
        "# Process each file in input_storage folder\n",
        "for file_name in os.listdir(input_storage):\n",
        "    file_path = os.path.join(input_storage, file_name)\n",
        "\n",
        "    if os.path.isfile(file_path) and file_name.lower().endswith(('.fa.gz', '.fna.gz', '.fastq', '.fastq.gz', '.fasta', '.fasta.gz')):\n",
        "        file_size = os.path.getsize(file_path)\n",
        "        file_line_count = sum(1 for line in open(file_path))\n",
        "        file_header_count = sum(1 for line in open(file_path) if line.startswith('>'))\n",
        "        with open(file_path, 'r') as file:\n",
        "            file_header_info = file.readline().strip('>').strip()\n",
        "\n",
        "        # Output to console and save to out_gen_info.txt\n",
        "        print(f\"Processing {file_name}\")\n",
        "        print(f\"path to file is {file_path}\")\n",
        "        print(f\"File size is {file_size}\")\n",
        "        print(f\"{file_name} amount of lines: {file_line_count}\")\n",
        "        print(f\"{file_name} amount of headers: {file_header_count}\")\n",
        "        print(f\"{file_name} header information: {file_header_info}\")\n",
        "        print()\n",
        "\n",
        "        # Save to out_gen_info.txt\n",
        "        with open(os.path.join(working_dir, output_dir, 'out_gen_info.txt'), 'a') as out_file:\n",
        "            out_file.write(f\"Processing {file_name}\\n\")\n",
        "            out_file.write(f\"path to file is {file_path}\\n\")\n",
        "            out_file.write(f\"File size is {file_size}\\n\")\n",
        "            out_file.write(f\"{file_name} amount of lines: {file_line_count}\\n\")\n",
        "            out_file.write(f\"{file_name} amount of headers: {file_header_count}\\n\")\n",
        "            out_file.write(f\"{file_name} header information: {file_header_info}\\n\")\n",
        "            out_file.write(\"\\n\")\n"
      ],
      "metadata": {
        "id": "BKaAi7gRjrUB"
      },
      "execution_count": null,
      "outputs": []
    },
    {
      "cell_type": "code",
      "source": [],
      "metadata": {
        "id": "ohQVaEO5krKi"
      },
      "execution_count": null,
      "outputs": []
    }
  ]
}