{
  "nbformat": 4,
  "nbformat_minor": 0,
  "metadata": {
    "colab": {
      "provenance": [],
      "toc_visible": true,
      "authorship_tag": "ABX9TyNY6GEHvTi0MR7MCbnDT152",
      "include_colab_link": true
    },
    "kernelspec": {
      "name": "python3",
      "display_name": "Python 3"
    },
    "language_info": {
      "name": "python"
    }
  },
  "cells": [
    {
      "cell_type": "markdown",
      "metadata": {
        "id": "view-in-github",
        "colab_type": "text"
      },
      "source": [
        "<a href=\"https://colab.research.google.com/github/AIKozyreva/masters-course-2024-genome-bioinformatics/blob/main/Lab_journal_hw1.ipynb\" target=\"_parent\"><img src=\"https://colab.research.google.com/assets/colab-badge.svg\" alt=\"Open In Colab\"/></a>"
      ]
    },
    {
      "cell_type": "markdown",
      "source": [
        "# Шаг 1. Подготовка"
      ],
      "metadata": {
        "id": "i6Ir2K8jfcuk"
      }
    },
    {
      "cell_type": "code",
      "execution_count": null,
      "metadata": {
        "id": "mNAkzQ4oEW3O"
      },
      "outputs": [],
      "source": [
        "#моральная"
      ]
    },
    {
      "cell_type": "code",
      "source": [
        "#вставить подключение конды к колабу#"
      ],
      "metadata": {
        "id": "U1NxXiFGGDwO"
      },
      "execution_count": null,
      "outputs": []
    },
    {
      "cell_type": "code",
      "source": [
        "!pip install -q condacolab\n",
        "import condacolab\n",
        "condacolab.install()"
      ],
      "metadata": {
        "colab": {
          "base_uri": "https://localhost:8080/"
        },
        "id": "bjlewwLC8MNa",
        "outputId": "39ee0f09-bc80-4005-9be1-d9183cdc1d70"
      },
      "execution_count": 1,
      "outputs": [
        {
          "output_type": "stream",
          "name": "stdout",
          "text": [
            "\u001b[33mWARNING: Running pip as the 'root' user can result in broken permissions and conflicting behaviour with the system package manager. It is recommended to use a virtual environment instead: https://pip.pypa.io/warnings/venv\u001b[0m\u001b[33m\n",
            "\u001b[0m✨🍰✨ Everything looks OK!\n"
          ]
        }
      ]
    },
    {
      "cell_type": "code",
      "source": [
        "!conda version"
      ],
      "metadata": {
        "colab": {
          "base_uri": "https://localhost:8080/"
        },
        "id": "-ILzpN5Q9ww5",
        "outputId": "d9a6c701-f2c4-47b6-c8e1-ff830f276456"
      },
      "execution_count": 2,
      "outputs": [
        {
          "output_type": "stream",
          "name": "stdout",
          "text": [
            "usage: conda [-h] [-v] [--no-plugins] [-V] COMMAND ...\n",
            "conda: error: argument COMMAND: invalid choice: 'version' (choose from 'activate', 'deactivate', 'clean', 'compare', 'config', 'create', 'info', 'init', 'install', 'list', 'notices', 'package', 'remove', 'uninstall', 'rename', 'run', 'search', 'update', 'upgrade', 'doctor', 'repoquery', 'env')\n"
          ]
        }
      ]
    },
    {
      "cell_type": "code",
      "source": [
        "!wget https://ftp.ncbi.nlm.nih.gov/genomes/all/GCF/035/770/615/GCF_035770615.1_bMelMel2.pri/GCF_035770615.1_bMelMel2.pri_genomic.fna.gz\n",
        "!wget https://hgdownload.soe.ucsc.edu/hubs/GCA/035/770/615/GCA_035770615.1/GCA_035770615.1.fa.gz"
      ],
      "metadata": {
        "colab": {
          "base_uri": "https://localhost:8080/"
        },
        "id": "mOrWNbM0Fi8R",
        "outputId": "628014e5-04ab-4a16-c8ba-462244724f81"
      },
      "execution_count": 6,
      "outputs": [
        {
          "output_type": "stream",
          "name": "stdout",
          "text": [
            "--2024-03-04 21:05:56--  https://ftp.ncbi.nlm.nih.gov/genomes/all/GCF/035/770/615/GCF_035770615.1_bMelMel2.pri/GCF_035770615.1_bMelMel2.pri_genomic.fna.gz\n",
            "Resolving ftp.ncbi.nlm.nih.gov (ftp.ncbi.nlm.nih.gov)... 130.14.250.11, 130.14.250.12, 2607:f220:41e:250::13, ...\n",
            "Connecting to ftp.ncbi.nlm.nih.gov (ftp.ncbi.nlm.nih.gov)|130.14.250.11|:443... connected.\n",
            "HTTP request sent, awaiting response... 200 OK\n",
            "Length: 423877926 (404M) [application/x-gzip]\n",
            "Saving to: ‘GCF_035770615.1_bMelMel2.pri_genomic.fna.gz.1’\n",
            "\n",
            "GCF_035770615.1_bMe 100%[===================>] 404.24M  32.8MB/s    in 10s     \n",
            "\n",
            "2024-03-04 21:06:06 (40.3 MB/s) - ‘GCF_035770615.1_bMelMel2.pri_genomic.fna.gz.1’ saved [423877926/423877926]\n",
            "\n",
            "--2024-03-04 21:06:06--  http://./raw\n",
            "Resolving . (.)... failed: No address associated with hostname.\n",
            "wget: unable to resolve host address ‘.’\n",
            "FINISHED --2024-03-04 21:06:06--\n",
            "Total wall clock time: 10s\n",
            "Downloaded: 1 files, 404M in 10s (40.3 MB/s)\n",
            "--2024-03-04 21:06:06--  https://hgdownload.soe.ucsc.edu/hubs/GCA/035/770/615/GCA_035770615.1/GCA_035770615.1.fa.gz\n",
            "Resolving hgdownload.soe.ucsc.edu (hgdownload.soe.ucsc.edu)... 128.114.198.53\n",
            "Connecting to hgdownload.soe.ucsc.edu (hgdownload.soe.ucsc.edu)|128.114.198.53|:443... connected.\n",
            "HTTP request sent, awaiting response... 200 OK\n",
            "Length: 456876177 (436M) [application/x-gzip]\n",
            "Saving to: ‘GCA_035770615.1.fa.gz.1’\n",
            "\n",
            "GCA_035770615.1.fa. 100%[===================>] 435.71M  44.0MB/s    in 10s     \n",
            "\n",
            "2024-03-04 21:06:17 (42.2 MB/s) - ‘GCA_035770615.1.fa.gz.1’ saved [456876177/456876177]\n",
            "\n",
            "--2024-03-04 21:06:17--  http://./raw\n",
            "Resolving . (.)... failed: No address associated with hostname.\n",
            "wget: unable to resolve host address ‘.’\n",
            "FINISHED --2024-03-04 21:06:17--\n",
            "Total wall clock time: 11s\n",
            "Downloaded: 1 files, 436M in 10s (42.2 MB/s)\n"
          ]
        }
      ]
    },
    {
      "cell_type": "markdown",
      "source": [
        "# Шаг 2. Используем скрипт для того, чтобы распаковать файлы и сразу оценить их содержимое - размеры и заголовки."
      ],
      "metadata": {
        "id": "yys-A7ZafUob"
      }
    },
    {
      "cell_type": "code",
      "source": [
        "!ls"
      ],
      "metadata": {
        "id": "crVW7wsGGKwd"
      },
      "execution_count": null,
      "outputs": []
    },
    {
      "cell_type": "code",
      "source": [
        "# скрипт - написан заранее. out - файл создаётся, через итерации ДОзаписывается\n",
        "!./genInf_parser.sh\n",
        "!nano out_gen_info.txt"
      ],
      "metadata": {
        "colab": {
          "base_uri": "https://localhost:8080/"
        },
        "id": "HoCs-LEoGvrc",
        "outputId": "dd34e60b-e351-4311-9929-38069b916212"
      },
      "execution_count": 15,
      "outputs": [
        {
          "output_type": "stream",
          "name": "stdout",
          "text": [
            "gzip: /mnt/projects/users/aalayeva/genomics/raw/*.fa.gz: No such file or directory\n",
            "Decompressed: /mnt/projects/users/aalayeva/genomics/raw/*.fa.gz\n",
            "\\n\n",
            "gzip: /mnt/projects/users/aalayeva/genomics/raw/*.fna.gz: No such file or directory\n",
            "Decompressed: /mnt/projects/users/aalayeva/genomics/raw/*.fna.gz\n",
            "\\n\n",
            "gzip: /mnt/projects/users/aalayeva/genomics/raw/*.fastq.gz: No such file or directory\n",
            "Decompressed: /mnt/projects/users/aalayeva/genomics/raw/*.fastq.gz\n",
            "\\n\n",
            "gzip: /mnt/projects/users/aalayeva/genomics/raw/*.fasta.gz: No such file or directory\n",
            "Decompressed: /mnt/projects/users/aalayeva/genomics/raw/*.fasta.gz\n",
            "\\n\n",
            "/bin/bash: line 1: nano: command not found\n"
          ]
        }
      ]
    },
    {
      "cell_type": "code",
      "source": [
        "#вспомогательная на случай проблем при переносе файлов с винды на linux (если пред.команда не срабатывает, то сначала эту сделать)\n",
        "!conda install dos2unix\n",
        "! dos2unix genInf_parser.sh\n",
        "!chmod +x genInf_parser.sh"
      ],
      "metadata": {
        "id": "9nlBvN6UGyPy"
      },
      "execution_count": null,
      "outputs": []
    },
    {
      "cell_type": "markdown",
      "source": [
        "Получаем в выоде что-то такое\n",
        "\n",
        "Processing GCA_035770615.1.fa\n",
        "path to file is /mnt/projects/users/aalayeva/genomics/raw/GCA_035770615.1.fa\n",
        "File size is 1.5G\n",
        "GCA_035770615.1.fa amount of lines: 30825768\n",
        "GCA_035770615.1.fa amount of headers: 354\n",
        "GCA_035770615.1.fa header information: CM069555.1\n",
        "\n",
        "Processing GCF_035770615.1_bMelMel2.pri_genomic.fna\n",
        "path to file is /mnt/projects/users/aalayeva/genomics/raw/GCF_035770615.1_bMelMel2.pri_genomic.fna\n",
        "File size is 1.5G\n",
        "GCF_035770615.1_bMelMel2.pri_genomic.fna amount of lines: 19266095\n",
        "GCF_035770615.1_bMelMel2.pri_genomic.fna amount of headers: 353\n",
        "GCF_035770615.1_bMelMel2.pri_genomic.fna header information: NC_086194.1 Melospiza melodia melodia isolate bMelMel2 chromosome 1, bMelMel2.pri, whole genome shotgun sequence"
      ],
      "metadata": {
        "id": "BGOO-Hz9Hscu"
      }
    },
    {
      "cell_type": "markdown",
      "source": [
        "# Шаг 3. Проверка качества by QUAST"
      ],
      "metadata": {
        "id": "JicUdNSvHhws"
      }
    },
    {
      "cell_type": "markdown",
      "source": [
        "\n",
        "> Параметры\n",
        "\n",
        "```\n",
        "--eukaryote (or -e)\n",
        "Genome is eukaryotic. Affects everything:\n",
        "For default, GeneMarkS is used. For eukaryotes, GeneMark-ES is used.\n",
        "Barrnap will use eukaryotic database to predict ribosomal RNA genes.\n",
        "\n",
        "By default, QUAST assumes that a genome is circular and correctly processes its linear representation. This options indicates that the genome is not circular.\n",
        "\n",
        "--large\n",
        "Genome is large (typically > 100 Mbp). Use optimal parameters for evaluation of large genomes. Affects speed and accuracy. In particular, imposes --eukaryote --min-contig 3000 --min-alignment 500 --extensive-mis-size 7000.\n",
        "\n",
        "--fast\n",
        "A shortcut for using all of speedup options except --no-check.\n",
        "\n",
        "--silent\n",
        "Do not print detailed information about each step in standard output.\n",
        "```\n",
        "\n"
      ],
      "metadata": {
        "id": "f_1TZnfpLEye"
      }
    },
    {
      "cell_type": "code",
      "source": [
        "!conda install -c bioconda quast"
      ],
      "metadata": {
        "id": "hJBVz2SH94_i"
      },
      "execution_count": null,
      "outputs": []
    },
    {
      "cell_type": "code",
      "source": [
        "!quast"
      ],
      "metadata": {
        "id": "KyjNYVQ6981d"
      },
      "execution_count": null,
      "outputs": []
    },
    {
      "cell_type": "code",
      "source": [
        "!quast.py --eukaryote --large --fast --silent /content/GCA_035770615.1.fa"
      ],
      "metadata": {
        "id": "L0lCkBrcLBtX"
      },
      "execution_count": null,
      "outputs": []
    },
    {
      "cell_type": "markdown",
      "source": [
        "# Шаг 4. Запуск BUSCO"
      ],
      "metadata": {
        "id": "1I_d5XKMHQr7"
      }
    },
    {
      "cell_type": "markdown",
      "source": [
        "\n",
        "`Команда: *busco -i /*.fa -m genome -l /*_odb10 --offline -f --download_path ./busco_downloads *`\n",
        "\n",
        "\n",
        "> Параметры\n",
        "\n",
        "> -l -> указание локальной базы данных\n",
        "\n",
        "> -f ->переписывание существующей папки запуска, существующей с неудачного раза\n",
        "\n",
        "> -offline -> чтобы он ничего дополнительно не пытался скачивать, потому что иначе он висанёт из-за невозможности использовать впн 🤡👍\n",
        "\n",
        "> --download_path -> я на всякий случай прописала, потому что вроде как обычно базы лежат в этой папке, а у меня они не в ней, а на одну папку выше, просто в busco/\n",
        "\n",
        "> -m -> это указание режима работы, я геном собираю, поэтому геном\n",
        "\n",
        "> -i -> это входная сырая .fasta на вход\n",
        "\n",
        "\n",
        "\n",
        "\n",
        "\n",
        "\n",
        "\n"
      ],
      "metadata": {
        "id": "_sI3YPlSA9mG"
      }
    },
    {
      "cell_type": "code",
      "source": [
        "#cоздаём окружение и скачиваем буско, да - иначе он не установится\n",
        "!conda create -n busco -c conda-forge -c bioconda busco=5.6.1"
      ],
      "metadata": {
        "id": "eaAc1jTOEwNV"
      },
      "execution_count": null,
      "outputs": []
    },
    {
      "cell_type": "code",
      "source": [
        "#включаем vpn в браузере и идём на сайт ниже\n",
        "# https://busco-data.ezlab.org/v5/data/lineages/\n",
        "#качаем нужную нам БД в зависимости от объекта работы"
      ],
      "metadata": {
        "id": "5d9dJFWXW0yb"
      },
      "execution_count": null,
      "outputs": []
    },
    {
      "cell_type": "code",
      "source": [
        "#возвращаемся на сервер, загружаем на сервер свою БД"
      ],
      "metadata": {
        "id": "xYJ026tBXbMv"
      },
      "execution_count": null,
      "outputs": []
    },
    {
      "cell_type": "code",
      "source": [
        "#распаковываем файл бд, он превратится в папку с бд"
      ],
      "metadata": {
        "id": "Oegbtlo1X9mq"
      },
      "execution_count": null,
      "outputs": []
    },
    {
      "cell_type": "code",
      "source": [
        "!tar -xzf /mnt/projects/users/aalayeva/genomics/busco/busco_downloads/passeriformes_odb10.2024-01-08.tar.gz"
      ],
      "metadata": {
        "id": "ZXnmBSm1XZQi"
      },
      "execution_count": null,
      "outputs": []
    },
    {
      "cell_type": "code",
      "source": [
        "#теперь можно прописывать команду буско"
      ],
      "metadata": {
        "id": "PXuqk124X8kX"
      },
      "execution_count": null,
      "outputs": []
    },
    {
      "cell_type": "code",
      "source": [
        "!busco -i /mnt/projects/users/aalayeva/genomics/raw/GCA_035770615.1.fa -m genome -l /mnt/projects/users/aalayeva/genomics/busco/passeriformes_odb10 --offline --download_path /mnt/projects/users/aalayeva/genomics/busco/busco_downloads"
      ],
      "metadata": {
        "id": "3HP-RRqlX6xU"
      },
      "execution_count": null,
      "outputs": []
    },
    {
      "cell_type": "code",
      "source": [],
      "metadata": {
        "id": "wvXeADYMYKYo"
      },
      "execution_count": null,
      "outputs": []
    }
  ]
}